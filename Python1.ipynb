{
 "cells": [
  {
   "cell_type": "code",
   "execution_count": null,
   "id": "a7cb1dc0-0a5a-4c6c-aeb9-9650add7cf33",
   "metadata": {},
   "outputs": [],
   "source": [
    "Q1.\n",
    "Ans:Guido van Rossum"
   ]
  },
  {
   "cell_type": "code",
   "execution_count": null,
   "id": "24d83c18-20f6-449a-8fc1-d21384bccfcc",
   "metadata": {},
   "outputs": [],
   "source": [
    "Q2.\n",
    "Ans.Python is a multi-paradigm programming language. Object-oriented programming and structured programming are fully supported, and many of their features support functional programming and aspect-oriented programming"
   ]
  },
  {
   "cell_type": "code",
   "execution_count": null,
   "id": "0f31fafd-fdeb-4d5c-bca5-c2110758465e",
   "metadata": {},
   "outputs": [],
   "source": [
    "Q3.\n",
    "Ans:Yes, Python is a case-sensitive language, i.e., it treats uppercase and lowercase characters differently. This applies to identifiers too."
   ]
  },
  {
   "cell_type": "code",
   "execution_count": null,
   "id": "ee8bf6b3-c427-471a-bc09-d1b758963381",
   "metadata": {},
   "outputs": [],
   "source": [
    "Q4.\n",
    "Ans.The extensions for Python files are - . py, . pyi,"
   ]
  },
  {
   "cell_type": "code",
   "execution_count": null,
   "id": "ccec937e-27f2-4ab3-ac4d-16e4501fd0d4",
   "metadata": {},
   "outputs": [],
   "source": [
    "Q5.\n",
    "Ans.Python is an interpreted language"
   ]
  },
  {
   "cell_type": "code",
   "execution_count": null,
   "id": "48e42afd-934c-4449-8393-2695dd4e2cea",
   "metadata": {},
   "outputs": [],
   "source": [
    "Q6.\n",
    "Ans.a module, a function body, and a class definition"
   ]
  },
  {
   "cell_type": "code",
   "execution_count": null,
   "id": "27bb3c0d-d53d-4505-bf98-1001c24bec97",
   "metadata": {},
   "outputs": [],
   "source": [
    "Q7.\n",
    "Ans.In Python :  # (hash) is used to make a single line comment"
   ]
  },
  {
   "cell_type": "code",
   "execution_count": null,
   "id": "a2af5dc2-86a5-4807-bd6d-d30279bd9474",
   "metadata": {},
   "outputs": [],
   "source": [
    "Q8.\n",
    "Ans.Using sys.version method.\n",
    "    Using python_version() function.\n",
    "    Using Python -V command."
   ]
  },
  {
   "cell_type": "code",
   "execution_count": null,
   "id": "30aabe6c-a678-4dd9-9351-b3e568988296",
   "metadata": {},
   "outputs": [],
   "source": [
    "Q9.\n",
    "Ans:\"lambda\" "
   ]
  },
  {
   "cell_type": "code",
   "execution_count": null,
   "id": "448015d7-44db-4688-af13-3a05b73b8ff9",
   "metadata": {},
   "outputs": [],
   "source": [
    "Q10.\n",
    "Ans:Pipe is a module in Python that easily connects the output from one method with the output from another method. It is a library that helps in writing cleaner code. Before beginning with pipe,"
   ]
  },
  {
   "cell_type": "code",
   "execution_count": null,
   "id": "88352783-632f-4bad-9a2c-8962b7d1b757",
   "metadata": {},
   "outputs": [],
   "source": [
    "Q11.\n",
    "Ans.\n",
    "Function:bool(),bin(),bytearray(),bytes().\t\t"
   ]
  },
  {
   "cell_type": "code",
   "execution_count": null,
   "id": "5e8407f6-25d0-42bb-ad5c-eb0de2f79684",
   "metadata": {},
   "outputs": [],
   "source": [
    "Q12.\n",
    "Ans.\n",
    "An identifier can have a maximum length of 79 characters in Python."
   ]
  },
  {
   "cell_type": "code",
   "execution_count": null,
   "id": "96d741e9-82d6-476b-9cab-92d364b4b638",
   "metadata": {},
   "outputs": [],
   "source": [
    "Q13.\n",
    "Ans.Benefits of  using python\n",
    "\n",
    "Presence of third-party modules. \n",
    "\n",
    "Extensive support libraries(NumPy for numerical calculations, Pandas for data analytics, etc.) \n",
    "\n",
    "Open source and large active community base. \n",
    "\n",
    "Versatile, Easy to read, learn and write.\n",
    "\n",
    "User-friendly data structures. \n",
    "\n",
    "High-level language. \n",
    "\n",
    "Dynamically typed language(No need to mention data type based on the value assigned, it takes data type). \n",
    "\n",
    "Object-Oriented and Procedural  Programming language.\n"
   ]
  },
  {
   "cell_type": "code",
   "execution_count": null,
   "id": "a61da124-729a-480d-b401-e1db02dbbd38",
   "metadata": {},
   "outputs": [],
   "source": [
    "Q14.\n",
    "Ans.\n",
    "Memory management in Python involves a private heap containing all Python objects and data structures. The management of this private heap is ensured internally by the Python memory manager.\n"
   ]
  },
  {
   "cell_type": "code",
   "execution_count": null,
   "id": "a4d11c6b-6903-4e4f-b77e-2221ce18a28b",
   "metadata": {},
   "outputs": [],
   "source": [
    "Q15.\n",
    "Ans.\n",
    "The complete path of python.exe can be added by:\n",
    "\n",
    "Right-clicking This PC and going to Properties.\n",
    "\n",
    "Clicking on the Advanced system settings in the menu on the left.\n",
    "\n",
    "Clicking on the Environment Variables button on the bottom right.\n",
    "\n",
    "In the System variables section, selecting the Path variable and clicking on Edit. The next screen will show all the directories that are currently a part of the PATH variable.\n",
    "\n",
    "Clicking on New and entering Python’s install directory.\n",
    "\n",
    "Python can now be used directly from the command prompt without having to write its location. Try executing the command python --version; it will output the version of Python installed on your system.\n",
    "\n",
    "Usually you can find the python installed binary in this path location: C:\\Users\\Educative\\AppData\\Local\\Programs\\Python\n",
    "\n"
   ]
  },
  {
   "cell_type": "code",
   "execution_count": null,
   "id": "abbac5ee-1bf8-47a0-94a0-61621352eba1",
   "metadata": {},
   "outputs": [],
   "source": [
    "Q16.\n",
    "Ans.\n",
    "Indentation refers to the spaces at the beginning of a code line. Where in other programming languages the indentation in code is for readability only, the indentation in Python is very important. Python uses indentation to indicate a block of code."
   ]
  }
 ],
 "metadata": {
  "kernelspec": {
   "display_name": "Python 3 (ipykernel)",
   "language": "python",
   "name": "python3"
  },
  "language_info": {
   "codemirror_mode": {
    "name": "ipython",
    "version": 3
   },
   "file_extension": ".py",
   "mimetype": "text/x-python",
   "name": "python",
   "nbconvert_exporter": "python",
   "pygments_lexer": "ipython3",
   "version": "3.10.8"
  }
 },
 "nbformat": 4,
 "nbformat_minor": 5
}
